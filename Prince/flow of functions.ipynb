{
 "cells": [
  {
   "cell_type": "markdown",
   "metadata": {},
   "source": [
    "# nested function"
   ]
  },
  {
   "cell_type": "code",
   "execution_count": 1,
   "metadata": {},
   "outputs": [
    {
     "name": "stdout",
     "output_type": "stream",
     "text": [
      "142\n"
     ]
    }
   ],
   "source": [
    "def outer_fun(outer):\n",
    "\n",
    "    def inner_fun(inner):\n",
    "        result=inner+outer\n",
    "        return result\n",
    "    result_inner=inner_fun(53)\n",
    "\n",
    "    return result_inner\n",
    "\n",
    "result_outer=outer_fun(89)\n",
    "print(result_outer)"
   ]
  },
  {
   "cell_type": "code",
   "execution_count": 2,
   "metadata": {},
   "outputs": [
    {
     "name": "stdout",
     "output_type": "stream",
     "text": [
      "307\n"
     ]
    }
   ],
   "source": [
    "def aman_fun(aman):\n",
    "    \n",
    "    def vikas_fun(vikas):\n",
    "\n",
    "        def aadi_fun(aadi):\n",
    "\n",
    "            def pushpansh_fun(pushpansh):\n",
    "\n",
    "                def ayush_fun(ayush):\n",
    "\n",
    "\n",
    "                    result=aman+vikas+aadi+pushpansh+ayush\n",
    "                    return result\n",
    "                \n",
    "                result_ayush=ayush_fun(98)\n",
    "                return result_ayush\n",
    "            \n",
    "            result_pushpansh=pushpansh_fun(56)\n",
    "            return result_pushpansh\n",
    "        \n",
    "        result_aadi=aadi_fun(43)\n",
    "        return result_aadi\n",
    "    \n",
    "    result_vikas=vikas_fun(45)\n",
    "    return result_vikas\n",
    "result_aman=aman_fun(65)\n",
    "print(result_aman)\n"
   ]
  },
  {
   "cell_type": "code",
   "execution_count": 3,
   "metadata": {},
   "outputs": [
    {
     "name": "stdout",
     "output_type": "stream",
     "text": [
      "575\n"
     ]
    }
   ],
   "source": [
    "def aman_fun(aman):\n",
    "\n",
    "    def ayush_fun(ayush):\n",
    "\n",
    "        def addi_fun(addi):\n",
    "\n",
    "            def purnima_fun(purnima):\n",
    "\n",
    "                def muskan_fun(muskan):\n",
    "\n",
    "                    def vikas_fun(vikas):\n",
    "\n",
    "                        def manisha_fun(manisha):\n",
    "                            result=aman+ayush+addi+purnima+muskan+vikas+manisha\n",
    "                            return result\n",
    "                        \n",
    "                        result_manisha=manisha_fun(98)\n",
    "                        return result_manisha\n",
    "                    \n",
    "                    result_vikas=vikas_fun(67)\n",
    "                    return result_vikas\n",
    "                \n",
    "                result_muskan=muskan_fun(89)\n",
    "                return result_muskan\n",
    "            \n",
    "            result_purnima=purnima_fun(46)\n",
    "            return result_purnima\n",
    "        \n",
    "        result_addi=addi_fun(98)\n",
    "        return result_addi\n",
    "    \n",
    "    result_ayush=ayush_fun(78)\n",
    "    return result_ayush\n",
    "\n",
    "result_aman=aman_fun(99)\n",
    "print(result_aman)"
   ]
  },
  {
   "cell_type": "code",
   "execution_count": 4,
   "metadata": {},
   "outputs": [
    {
     "name": "stdout",
     "output_type": "stream",
     "text": [
      "341\n"
     ]
    }
   ],
   "source": [
    "def sum_of_cubes(a,b):\n",
    "    \n",
    "    def cube(x):\n",
    "        return x*x*x\n",
    "    def add(x,y):\n",
    "        return x+y\n",
    "    \n",
    "    return add(  cube(a) ,cube(b))\n",
    "\n",
    "result= sum_of_cubes(5,6)\n",
    "print(result)"
   ]
  },
  {
   "cell_type": "code",
   "execution_count": 5,
   "metadata": {},
   "outputs": [
    {
     "name": "stdout",
     "output_type": "stream",
     "text": [
      "216\n"
     ]
    }
   ],
   "source": [
    "def multiply_of_cubes(a,b):\n",
    "\n",
    "    def cube(x):\n",
    "        return x*x*x\n",
    "    \n",
    "    def multiply(x,y):\n",
    "        return x*y\n",
    "\n",
    "\n",
    "    return multiply(cube(a),cube(b))\n",
    "\n",
    "\n",
    "result=multiply_of_cubes(2,3)\n",
    "print(result)"
   ]
  },
  {
   "cell_type": "markdown",
   "metadata": {},
   "source": [
    "# function types"
   ]
  },
  {
   "cell_type": "code",
   "execution_count": 6,
   "metadata": {},
   "outputs": [],
   "source": [
    "# we can store data types in variables\n",
    "# we can check the types\n",
    "# we can acess it through variables\n",
    "# function is a mutable data type or not "
   ]
  },
  {
   "cell_type": "code",
   "execution_count": 7,
   "metadata": {},
   "outputs": [
    {
     "data": {
      "text/plain": [
       "function"
      ]
     },
     "execution_count": 7,
     "metadata": {},
     "output_type": "execute_result"
    }
   ],
   "source": [
    "def hello(a):\n",
    "    return a**2\n",
    "\n",
    "hello(3)\n",
    "type(hello)"
   ]
  },
  {
   "cell_type": "code",
   "execution_count": 8,
   "metadata": {},
   "outputs": [
    {
     "data": {
      "text/plain": [
       "9"
      ]
     },
     "execution_count": 8,
     "metadata": {},
     "output_type": "execute_result"
    }
   ],
   "source": [
    "a=[1,2,3,443,43]\n",
    "a[3]\n",
    "\n",
    "h=hello\n",
    "h(3)"
   ]
  },
  {
   "cell_type": "code",
   "execution_count": 13,
   "metadata": {},
   "outputs": [
    {
     "data": {
      "text/plain": [
       "9"
      ]
     },
     "execution_count": 13,
     "metadata": {},
     "output_type": "execute_result"
    }
   ],
   "source": [
    "a=[1,2,3234,43,4,3,4,h]\n",
    "a [-1](3)\n"
   ]
  },
  {
   "cell_type": "markdown",
   "metadata": {},
   "source": [
    "# function can be return function"
   ]
  },
  {
   "cell_type": "code",
   "execution_count": 17,
   "metadata": {},
   "outputs": [
    {
     "data": {
      "text/plain": [
       "9"
      ]
     },
     "execution_count": 17,
     "metadata": {},
     "output_type": "execute_result"
    }
   ],
   "source": [
    "def hello():\n",
    "    def hello1(a):\n",
    "        return a**2\n",
    "    \n",
    "    return hello1\n",
    "\n",
    "hello()(3)"
   ]
  },
  {
   "cell_type": "markdown",
   "metadata": {},
   "source": [
    "# function as argument"
   ]
  },
  {
   "cell_type": "code",
   "execution_count": 20,
   "metadata": {},
   "outputs": [
    {
     "data": {
      "text/plain": [
       "15"
      ]
     },
     "execution_count": 20,
     "metadata": {},
     "output_type": "execute_result"
    }
   ],
   "source": [
    "def operation(a,b,oper):\n",
    "    return oper(a,b)   \n",
    "\n",
    "    def add(a,b):\n",
    "        return a+b\n",
    "\n",
    "    def mul(a,b):\n",
    "        return a*b\n",
    "    \n",
    "operation(3,5,mul)\n"
   ]
  },
  {
   "cell_type": "code",
   "execution_count": 33,
   "metadata": {},
   "outputs": [],
   "source": [
    "def operation(a,b,oper):\n",
    "    return oper(a)\n",
    "    \n",
    "#def Cube(a):\n",
    "#    return a**3\n",
    "\n",
    "def Cube(b):\n",
    "    return b**3\n",
    "\n",
    "def square(a):\n",
    "    return a**2"
   ]
  },
  {
   "cell_type": "code",
   "execution_count": 36,
   "metadata": {},
   "outputs": [
    {
     "name": "stdout",
     "output_type": "stream",
     "text": [
      "8\n"
     ]
    }
   ],
   "source": [
    "result=operation(2,None,Cube) \n",
    "print(result)"
   ]
  },
  {
   "cell_type": "code",
   "execution_count": 39,
   "metadata": {},
   "outputs": [
    {
     "name": "stdout",
     "output_type": "stream",
     "text": [
      "(4, 9)\n"
     ]
    }
   ],
   "source": [
    "def operation(a, b, oper):\n",
    "    return oper(a, b)\n",
    "\n",
    "# Define the square function to handle two arguments\n",
    "def square(a, b):\n",
    "    return a**2, b**2\n",
    "\n",
    "def Cube(a,b):\n",
    "    return a**3 , b**3\n",
    "\n",
    "# Call the operation function with square\n",
    "result = operation(2, 3, square)\n",
    "print(result)\n"
   ]
  },
  {
   "cell_type": "code",
   "execution_count": 40,
   "metadata": {},
   "outputs": [
    {
     "name": "stdout",
     "output_type": "stream",
     "text": [
      "(8, 27)\n"
     ]
    }
   ],
   "source": [
    "result=operation(2,3,Cube) \n",
    "print(result)"
   ]
  },
  {
   "cell_type": "code",
   "execution_count": 41,
   "metadata": {},
   "outputs": [
    {
     "name": "stdout",
     "output_type": "stream",
     "text": [
      "(8, 27)\n"
     ]
    }
   ],
   "source": [
    "def operation(a,b,oper):\n",
    "    return oper(a,b)\n",
    "\n",
    "def cube(a,b):\n",
    "    return a**3,b**3\n",
    "def square(a,b):\n",
    "    return a**2,b**2\n",
    "\n",
    "result=operation(2,3,cube)\n",
    "print(result)"
   ]
  },
  {
   "cell_type": "code",
   "execution_count": 42,
   "metadata": {},
   "outputs": [
    {
     "name": "stdout",
     "output_type": "stream",
     "text": [
      "(4, 9)\n"
     ]
    }
   ],
   "source": [
    "result=operation(2,3,square)\n",
    "print(result)"
   ]
  },
  {
   "cell_type": "markdown",
   "metadata": {},
   "source": []
  },
  {
   "cell_type": "code",
   "execution_count": null,
   "metadata": {},
   "outputs": [],
   "source": []
  }
 ],
 "metadata": {
  "kernelspec": {
   "display_name": "Python 3",
   "language": "python",
   "name": "python3"
  },
  "language_info": {
   "codemirror_mode": {
    "name": "ipython",
    "version": 3
   },
   "file_extension": ".py",
   "mimetype": "text/x-python",
   "name": "python",
   "nbconvert_exporter": "python",
   "pygments_lexer": "ipython3",
   "version": "3.11.9"
  }
 },
 "nbformat": 4,
 "nbformat_minor": 2
}
