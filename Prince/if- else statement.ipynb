{
 "cells": [
  {
   "cell_type": "code",
   "execution_count": 1,
   "metadata": {},
   "outputs": [
    {
     "name": "stdout",
     "output_type": "stream",
     "text": [
      "a is grater than 5\n"
     ]
    }
   ],
   "source": [
    "a=7\n",
    "if a>5:\n",
    "    print(\"a is grater than 5\")\n",
    "else:\n",
    "    print(\"condition is not true\")"
   ]
  },
  {
   "cell_type": "code",
   "execution_count": 2,
   "metadata": {},
   "outputs": [
    {
     "name": "stdout",
     "output_type": "stream",
     "text": [
      "a is equal to 4\n"
     ]
    }
   ],
   "source": [
    "a=4\n",
    "if a>5:\n",
    "    print(\"a is greater than 5\")\n",
    "elif a==4: \n",
    "    print(\"a is equal to 4\")\n",
    "elif a==6:\n",
    "    print(\"a is equal to 6\")\n",
    "\n",
    "elif a==2:\n",
    "    print(\"a is equal 2 \")\n",
    "elif a==5:\n",
    "    print(\"a is equal to 5\")\n",
    "\n",
    "else:\n",
    "    print(\"condition is not true\")"
   ]
  },
  {
   "cell_type": "code",
   "execution_count": 4,
   "metadata": {},
   "outputs": [
    {
     "name": "stdout",
     "output_type": "stream",
     "text": [
      "orange in not in list\n"
     ]
    }
   ],
   "source": [
    "fruits =[\"pinapple\",\"banana\",\"graphes\",\"cherry\"]\n",
    "if\"apple\"in fruits:\n",
    "    print(\"apple is in the list\")\n",
    "if\"orange\"not in fruits:\n",
    "    print(\"orange in not in list\")\n",
    "else:\n",
    "    print(\"apple is not present in list\") \n"
   ]
  },
  {
   "cell_type": "markdown",
   "metadata": {},
   "source": [
    "# nested if-else statement"
   ]
  },
  {
   "cell_type": "code",
   "execution_count": 5,
   "metadata": {},
   "outputs": [
    {
     "name": "stdout",
     "output_type": "stream",
     "text": [
      "a is greater than 5\n",
      "a is equal to 3\n",
      "condition is not true\n"
     ]
    }
   ],
   "source": [
    "a=3 \n",
    "if a>1:\n",
    "    print(\"a is greater than 5\")\n",
    "    if a==4:\n",
    "        print(\"a is equal to 4\")\n",
    "    elif a==3:\n",
    "        print(\"a is equal to 3\")\n",
    "        if a==2:\n",
    "            print(\"a is equal to 2\")\n",
    "        else:\n",
    "            print(\"condition is not true\")\n",
    "    else:\n",
    "        print(\"a is not equal to 4\")\n",
    "else:\n",
    "    (\"a is not greater than 5\")\n",
    "\n",
    "\n"
   ]
  },
  {
   "cell_type": "code",
   "execution_count": 6,
   "metadata": {},
   "outputs": [
    {
     "name": "stdout",
     "output_type": "stream",
     "text": [
      "x is greater than 5\n"
     ]
    }
   ],
   "source": [
    "x=10\n",
    "message =\"x is greater than 5\" if x>5 else \"x is 5 or less\"\n",
    "print(message)"
   ]
  },
  {
   "cell_type": "code",
   "execution_count": 7,
   "metadata": {},
   "outputs": [
    {
     "name": "stdout",
     "output_type": "stream",
     "text": [
      "a is less than 0\n"
     ]
    }
   ],
   "source": [
    "def add(x):\n",
    "    if x >5:\n",
    "        print(\"a is greater than 0\")\n",
    "    else:\n",
    "        print(\"a is less than 0\")\n",
    "\n",
    "add(3)\n"
   ]
  },
  {
   "cell_type": "code",
   "execution_count": 8,
   "metadata": {},
   "outputs": [
    {
     "name": "stdout",
     "output_type": "stream",
     "text": [
      "x is less than 5\n"
     ]
    }
   ],
   "source": [
    "x=2\n",
    "if x>5 :\n",
    "    pass\n",
    "else:\n",
    "    print(\"x is less than 5\")"
   ]
  },
  {
   "cell_type": "code",
   "execution_count": 9,
   "metadata": {},
   "outputs": [
    {
     "ename": "AssertionError",
     "evalue": "x is not 5",
     "output_type": "error",
     "traceback": [
      "\u001b[1;31m---------------------------------------------------------------------------\u001b[0m",
      "\u001b[1;31mAssertionError\u001b[0m                            Traceback (most recent call last)",
      "Cell \u001b[1;32mIn[9], line 2\u001b[0m\n\u001b[0;32m      1\u001b[0m x\u001b[38;5;241m=\u001b[39m\u001b[38;5;241m10\u001b[39m\n\u001b[1;32m----> 2\u001b[0m \u001b[38;5;28;01massert\u001b[39;00m x\u001b[38;5;241m==\u001b[39m\u001b[38;5;241m5\u001b[39m,\u001b[38;5;124m\"\u001b[39m\u001b[38;5;124mx is not 5\u001b[39m\u001b[38;5;124m\"\u001b[39m\n",
      "\u001b[1;31mAssertionError\u001b[0m: x is not 5"
     ]
    }
   ],
   "source": [
    "x=10\n",
    "assert x==5,\"x is not 5\"\n"
   ]
  },
  {
   "cell_type": "markdown",
   "metadata": {},
   "source": [
    "# practice questions"
   ]
  },
  {
   "cell_type": "code",
   "execution_count": 10,
   "metadata": {},
   "outputs": [
    {
     "name": "stdout",
     "output_type": "stream",
     "text": [
      "0 statement is  false\n",
      "[] statement is  false\n",
      "{} statement is  false\n",
      " statement is  false\n",
      "None statement is  false\n",
      "False statement is  false\n",
      "0 statement is true\n",
      "[0] statement is true\n",
      "1 statement is true\n"
     ]
    }
   ],
   "source": [
    "values =[0, [] ,{} ,\"\", None , False , \"0\", [0], 1]\n",
    "for val in values:\n",
    "    if val:\n",
    "        print(f\"{val} statement is true\")\n",
    "    else:\n",
    "        print(f\"{val} statement is  false\")"
   ]
  },
  {
   "cell_type": "code",
   "execution_count": 11,
   "metadata": {},
   "outputs": [
    {
     "name": "stdout",
     "output_type": "stream",
     "text": [
      "6\n"
     ]
    }
   ],
   "source": [
    "x=6\n",
    "y=7\n",
    "z=9\n",
    "\n",
    "result = x if x<y  else    y if y<z   else  z\n",
    "print(result)"
   ]
  },
  {
   "cell_type": "code",
   "execution_count": 15,
   "metadata": {},
   "outputs": [],
   "source": [
    "x=6\n",
    "y=7\n",
    "z=9\n",
    "\n",
    "if x<y:\n",
    "    print=x\n",
    "else:\n",
    "    if y<z:\n",
    "        print(y)\n",
    "    else:\n",
    "        print (z)"
   ]
  },
  {
   "cell_type": "code",
   "execution_count": 1,
   "metadata": {},
   "outputs": [
    {
     "name": "stdout",
     "output_type": "stream",
     "text": [
      "Positive\n"
     ]
    }
   ],
   "source": [
    "x = 5  # Example value; you can replace it with your actual logic\n",
    "if x < 0:\n",
    "    print(\"Negative\")\n",
    "elif x == 0:\n",
    "    print(\"Zero\")\n",
    "else:\n",
    "    print(\"Positive\")\n"
   ]
  },
  {
   "cell_type": "code",
   "execution_count": 2,
   "metadata": {},
   "outputs": [
    {
     "name": "stdout",
     "output_type": "stream",
     "text": [
      "positve\n"
     ]
    }
   ],
   "source": [
    "x = input(\"enter the value: \")\n",
    "x=int(x)\n",
    "if x < 0:\n",
    "    print(\"negative\")\n",
    "if x==0:\n",
    "    print(\"zero\")\n",
    "if x > 0:\n",
    "    print(\"positve\")"
   ]
  },
  {
   "cell_type": "code",
   "execution_count": 4,
   "metadata": {},
   "outputs": [
    {
     "name": "stdout",
     "output_type": "stream",
     "text": [
      "all positve\n"
     ]
    }
   ],
   "source": [
    "x = 1\n",
    "y = 2\n",
    "z = 3\n",
    "\n",
    "if x>0:\n",
    "    if y>0:\n",
    "        if z>0:\n",
    "            print(\"all positve\")\n",
    "        else:\n",
    "            print(\"z is not positve\")\n",
    "    else:\n",
    "        print(\"y is not positve\")\n",
    "else:\n",
    "    print(\" x is not positive \")"
   ]
  },
  {
   "cell_type": "markdown",
   "metadata": {},
   "source": [
    "# for loop"
   ]
  },
  {
   "cell_type": "code",
   "execution_count": 5,
   "metadata": {},
   "outputs": [
    {
     "data": {
      "text/plain": [
       "[1, 2, 3, 4, 5, 6, 7, 8, 9, 10, 11, 12, 13, 14]"
      ]
     },
     "execution_count": 5,
     "metadata": {},
     "output_type": "execute_result"
    }
   ],
   "source": [
    "list (range(1,15))"
   ]
  },
  {
   "cell_type": "code",
   "execution_count": 6,
   "metadata": {},
   "outputs": [
    {
     "data": {
      "text/plain": [
       "True"
      ]
     },
     "execution_count": 6,
     "metadata": {},
     "output_type": "execute_result"
    }
   ],
   "source": [
    "l=[1,2,3,4,5,6]\n",
    "5 in l "
   ]
  },
  {
   "cell_type": "code",
   "execution_count": 7,
   "metadata": {},
   "outputs": [
    {
     "name": "stdout",
     "output_type": "stream",
     "text": [
      "1\n",
      "2\n",
      "3\n",
      "4\n",
      "5\n",
      "6\n"
     ]
    }
   ],
   "source": [
    "for i in l:\n",
    "    print(i)"
   ]
  },
  {
   "cell_type": "code",
   "execution_count": 8,
   "metadata": {},
   "outputs": [
    {
     "name": "stdout",
     "output_type": "stream",
     "text": [
      "1\n",
      "2\n",
      "<class 'type'>\n",
      "2\n",
      "3\n",
      "<class 'type'>\n",
      "3\n",
      "4\n",
      "<class 'type'>\n",
      "4\n",
      "5\n",
      "<class 'type'>\n",
      "5\n",
      "6\n",
      "<class 'type'>\n",
      "6\n",
      "7\n",
      "<class 'type'>\n"
     ]
    }
   ],
   "source": [
    "for i in l:\n",
    "    print(i)\n",
    "    print(i+1)\n",
    "    print(type)"
   ]
  },
  {
   "cell_type": "code",
   "execution_count": 1,
   "metadata": {},
   "outputs": [
    {
     "name": "stdout",
     "output_type": "stream",
     "text": [
      "2\n",
      "<class 'type'>\n",
      "3\n",
      "<class 'type'>\n",
      "4\n",
      "<class 'type'>\n",
      "5\n",
      "<class 'type'>\n",
      "6\n",
      "<class 'type'>\n",
      "7\n",
      "<class 'type'>\n",
      "8\n",
      "<class 'type'>\n",
      "9\n",
      "<class 'type'>\n",
      "10\n",
      "<class 'type'>\n",
      "11\n",
      "<class 'type'>\n"
     ]
    }
   ],
   "source": [
    "for i in range(1,11):\n",
    "    print(i+1)\n",
    "    print(type)"
   ]
  },
  {
   "cell_type": "code",
   "execution_count": 3,
   "metadata": {},
   "outputs": [
    {
     "name": "stdout",
     "output_type": "stream",
     "text": [
      "apple\n",
      "orange\n",
      "grapher\n"
     ]
    }
   ],
   "source": [
    "fruits = ['apple','orange','grapher']\n",
    "for i in fruits:\n",
    "    print(i)\n"
   ]
  },
  {
   "cell_type": "code",
   "execution_count": 4,
   "metadata": {},
   "outputs": [
    {
     "name": "stdout",
     "output_type": "stream",
     "text": [
      "1\n",
      "2\n",
      "3\n",
      "4\n",
      "5\n",
      "6\n"
     ]
    }
   ],
   "source": [
    "num = [1,2,3,4,5,6]\n",
    "for j in num:\n",
    "    print(j)"
   ]
  },
  {
   "cell_type": "code",
   "execution_count": 5,
   "metadata": {},
   "outputs": [
    {
     "name": "stdout",
     "output_type": "stream",
     "text": [
      "b\n",
      "u\n",
      "d\n",
      "h\n",
      "w\n",
      "a\n",
      "r\n",
      " \n",
      "a\n",
      "m\n",
      "a\n",
      "n\n",
      " \n"
     ]
    }
   ],
   "source": [
    "str =\"budhwar aman \"\n",
    "for i in str:\n",
    "    print(i)"
   ]
  },
  {
   "cell_type": "code",
   "execution_count": 7,
   "metadata": {},
   "outputs": [
    {
     "name": "stdout",
     "output_type": "stream",
     "text": [
      "1\n",
      "234\n",
      "5\n"
     ]
    }
   ],
   "source": [
    "tup = (1,234,5)\n",
    "for i in tup:\n",
    "    print(i)"
   ]
  },
  {
   "cell_type": "code",
   "execution_count": 10,
   "metadata": {},
   "outputs": [
    {
     "name": "stdout",
     "output_type": "stream",
     "text": [
      "a\n",
      "b\n",
      "c\n"
     ]
    }
   ],
   "source": [
    "dict ={'a':1, 'b': 2, 'c':3}\n",
    "for i,j in dict.items():\n",
    "    print(i)"
   ]
  },
  {
   "cell_type": "code",
   "execution_count": 11,
   "metadata": {},
   "outputs": [
    {
     "name": "stdout",
     "output_type": "stream",
     "text": [
      "5*1=5\n",
      "5*2=10\n",
      "5*3=15\n",
      "5*4=20\n",
      "5*5=25\n",
      "5*6=30\n",
      "5*7=35\n",
      "5*8=40\n",
      "5*9=45\n",
      "5*10=50\n"
     ]
    }
   ],
   "source": [
    "number = int(input(\"enter the number for which i table your want\"))\n",
    "for i in range(1,11):\n",
    "    print(f\"{number}*{i}={number* i}\")"
   ]
  },
  {
   "cell_type": "code",
   "execution_count": 12,
   "metadata": {},
   "outputs": [
    {
     "name": "stdout",
     "output_type": "stream",
     "text": [
      "0 apple\n",
      "1 banana\n",
      "2 cherry\n"
     ]
    }
   ],
   "source": [
    "fruits =['apple','banana','cherry']\n",
    "for index , i in enumerate(fruits):\n",
    "    print(index,i)\n"
   ]
  },
  {
   "cell_type": "code",
   "execution_count": 20,
   "metadata": {},
   "outputs": [
    {
     "name": "stdout",
     "output_type": "stream",
     "text": [
      "2\n",
      "4\n",
      "6\n",
      "8\n"
     ]
    }
   ],
   "source": [
    "N = [1,2,3,4,5,6,7,8,9]\n",
    "l=[]\n",
    "for i in N:\n",
    "    if i%2==0:\n",
    "        print(i)\n",
    "    "
   ]
  },
  {
   "cell_type": "markdown",
   "metadata": {},
   "source": [
    "# nested loop"
   ]
  },
  {
   "cell_type": "code",
   "execution_count": 24,
   "metadata": {},
   "outputs": [
    {
     "name": "stdout",
     "output_type": "stream",
     "text": [
      "1\n",
      "2\n",
      "3\n",
      "4\n",
      "5\n",
      "6\n",
      "7\n",
      "8\n",
      "9\n"
     ]
    }
   ],
   "source": [
    "matrix = [\n",
    "    [1,2,3],\n",
    "    [4,5,6],\n",
    "    [7,8,9]\n",
    "\n",
    "]\n",
    "for i in matrix:\n",
    "    for j in i:\n",
    "        print(j)\n",
    "\n",
    "\n",
    "    "
   ]
  },
  {
   "cell_type": "code",
   "execution_count": 29,
   "metadata": {},
   "outputs": [
    {
     "name": "stdout",
     "output_type": "stream",
     "text": [
      "1*1=1\n",
      "1*2=2\n",
      "2*1=2\n",
      "2*2=4\n",
      "3*1=3\n",
      "3*2=6\n",
      "4*1=4\n",
      "4*2=8\n",
      "5*1=5\n",
      "5*2=10\n",
      "6*1=6\n",
      "6*2=12\n"
     ]
    }
   ],
   "source": [
    "for i in range(1,7):\n",
    "    for j in range(1,3):\n",
    "        print(f\"{i}*{j}={i*j}\")"
   ]
  },
  {
   "cell_type": "code",
   "execution_count": 32,
   "metadata": {},
   "outputs": [
    {
     "name": "stdout",
     "output_type": "stream",
     "text": [
      "red s\n",
      "red m\n",
      "red l\n",
      "pink s\n",
      "pink m\n",
      "pink l\n",
      "blue s\n",
      "blue m\n",
      "blue l\n"
     ]
    }
   ],
   "source": [
    "colors=[\"red\",\"pink\",\"blue\"]\n",
    "sizes = [\"s\",\"m\",\"l\"]\n",
    "for color in colors:\n",
    "    for size in sizes:\n",
    "        print(f\"{color} {size}\")"
   ]
  },
  {
   "cell_type": "code",
   "execution_count": 1,
   "metadata": {},
   "outputs": [
    {
     "name": "stdout",
     "output_type": "stream",
     "text": [
      "5\n",
      "4\n",
      "3\n"
     ]
    }
   ],
   "source": [
    "x = 5\n",
    "while x>2:\n",
    "    print(x)\n",
    "    x-=1"
   ]
  },
  {
   "cell_type": "code",
   "execution_count": 1,
   "metadata": {},
   "outputs": [
    {
     "name": "stdout",
     "output_type": "stream",
     "text": [
      "5\n",
      "6\n",
      "7\n",
      "8\n",
      "9\n"
     ]
    }
   ],
   "source": [
    "x=5\n",
    "while x<10:\n",
    "    print(x)\n",
    "    x+=1"
   ]
  },
  {
   "cell_type": "code",
   "execution_count": 4,
   "metadata": {},
   "outputs": [
    {
     "name": "stdout",
     "output_type": "stream",
     "text": [
      "apple\n",
      "banana\n",
      "orange\n",
      "mango\n"
     ]
    }
   ],
   "source": [
    "fruits = [\"mango\",\"orange\",\"banana\",\"apple\"]\n",
    "while fruits:\n",
    "    print (fruits.pop())"
   ]
  },
  {
   "cell_type": "code",
   "execution_count": 2,
   "metadata": {},
   "outputs": [
    {
     "name": "stdout",
     "output_type": "stream",
     "text": [
      "6\n",
      "7\n",
      "8\n",
      "9\n",
      "10\n",
      "11\n",
      "12\n",
      "13\n",
      "14\n",
      "15\n"
     ]
    }
   ],
   "source": [
    "a=6\n",
    "while True:\n",
    "    print(a)\n",
    "    if a >= 15:\n",
    "        break\n",
    "    a=a+1"
   ]
  },
  {
   "cell_type": "code",
   "execution_count": 3,
   "metadata": {},
   "outputs": [
    {
     "name": "stdout",
     "output_type": "stream",
     "text": [
      "this is c:3\n",
      "this is b:2\n",
      "this is a:1\n"
     ]
    }
   ],
   "source": [
    "my_dict = {'a':1, 'b': 2, 'c':3}\n",
    "while my_dict:\n",
    "    key,value = my_dict.popitem()\n",
    "    print(f\"this is {key}:{value}\")"
   ]
  },
  {
   "cell_type": "code",
   "execution_count": 4,
   "metadata": {},
   "outputs": [
    {
     "name": "stdout",
     "output_type": "stream",
     "text": [
      "this is is you 5\n"
     ]
    }
   ],
   "source": [
    "num = -1\n",
    "while num<=0:\n",
    "    num = int(input(\"enter the number you want\"))\n",
    "print(\"this is is you\",num)\n"
   ]
  },
  {
   "cell_type": "code",
   "execution_count": 5,
   "metadata": {},
   "outputs": [
    {
     "name": "stdout",
     "output_type": "stream",
     "text": [
      "5\n",
      "6\n",
      "7\n",
      "8\n",
      "9\n",
      "condition is faild\n"
     ]
    }
   ],
   "source": [
    "x=5\n",
    "while x<10:\n",
    "    print(x)\n",
    "    x+=1\n",
    "\n",
    "else:\n",
    "    print(\"condition is faild\")"
   ]
  },
  {
   "cell_type": "code",
   "execution_count": 6,
   "metadata": {},
   "outputs": [
    {
     "name": "stdout",
     "output_type": "stream",
     "text": [
      "x:0 and y:10\n",
      "x:1 and y:10\n",
      "x:2 and y:10\n",
      "x:3 and y:10\n",
      "x:4 and y:10\n"
     ]
    }
   ],
   "source": [
    "x,y = 0,10\n",
    "while x<5 and y>5:\n",
    "    print(f\"x:{x} and y:{y}\")\n",
    "    x=x+1\n",
    "    y+y-1"
   ]
  },
  {
   "cell_type": "markdown",
   "metadata": {},
   "source": [
    "# break"
   ]
  },
  {
   "cell_type": "code",
   "execution_count": 1,
   "metadata": {},
   "outputs": [
    {
     "name": "stdout",
     "output_type": "stream",
     "text": [
      "15\n",
      "14\n",
      "kii bhai aapki value yha h \n",
      "thia is out of the loop\n"
     ]
    }
   ],
   "source": [
    "x=15\n",
    "while x > 10:\n",
    "    print(x)\n",
    "\n",
    "    if x ==14:\n",
    "        print(\"kii bhai aapki value yha h \")\n",
    "        break\n",
    "        print(\"this is in the loop\")\n",
    "    x-=1 \n",
    "print(\"thia is out of the loop\")\n"
   ]
  },
  {
   "cell_type": "code",
   "execution_count": 6,
   "metadata": {},
   "outputs": [
    {
     "name": "stdout",
     "output_type": "stream",
     "text": [
      "0\n",
      "aage gandu h jo jayega\n",
      "1\n",
      "aage gandu h jo jayega\n",
      "2\n",
      "aage gandu h jo jayega\n",
      "3\n",
      "aage gandu h jo jayega\n",
      "4\n",
      "aage gandu h jo jayega\n",
      "5\n",
      "aage gandu h jo jayega\n",
      "6\n",
      "6 mil chuka h aage mj ja bsdi k \n",
      "y to loop k bhr h \n"
     ]
    }
   ],
   "source": [
    "for i in range(10):\n",
    "    print(i)\n",
    "    if i==6:\n",
    "        print(\"6 mil chuka h aage mj ja bsdi k \")\n",
    "        break\n",
    "    print(\"aage gandu h jo jayega\")\n",
    "\n",
    "print(\"y to loop k bhr h \")\n",
    "\n"
   ]
  },
  {
   "cell_type": "code",
   "execution_count": 10,
   "metadata": {},
   "outputs": [
    {
     "name": "stdout",
     "output_type": "stream",
     "text": [
      "your turn is over\n",
      "110\n"
     ]
    }
   ],
   "source": [
    "ball_faced = 0\n",
    "runs_faced = 0\n",
    "\n",
    "while ball_faced<6:\n",
    "    ball_faced+=1\n",
    "    run =int(input(F\"run scored {ball_faced}\"))\n",
    "\n",
    "    if run == -1:\n",
    "        print(\"your turn is over\")\n",
    "        break\n",
    "    \n",
    "    runs_faced +=run\n",
    "print(runs_faced)\n"
   ]
  },
  {
   "cell_type": "code",
   "execution_count": 16,
   "metadata": {},
   "outputs": [
    {
     "name": "stdout",
     "output_type": "stream",
     "text": [
      "1\n",
      "2\n",
      "3\n",
      "4\n",
      "5\n",
      "your turn is over\n",
      "good ining\n"
     ]
    }
   ],
   "source": [
    "ball=6\n",
    "ball_faced =0\n",
    "runs_faced =0\n",
    "\n",
    "for ball_faced in range (1, ball +1):\n",
    "    print(ball_faced)\n",
    "    run = int(input(\"enter the value if you want\"))\n",
    "\n",
    "    if run ==-1:\n",
    "        print(\"your turn is over\")\n",
    "        break\n",
    "        print(\" ghr ja bhai yha koi kaam nah h\")\n",
    "print(\"good ining\")"
   ]
  },
  {
   "cell_type": "code",
   "execution_count": 22,
   "metadata": {},
   "outputs": [
    {
     "name": "stdout",
     "output_type": "stream",
     "text": [
      "1\n",
      "2\n",
      "3\n",
      "4\n",
      "5\n",
      "koi mil gya\n",
      "7\n",
      "8\n",
      "9\n",
      "10\n"
     ]
    }
   ],
   "source": [
    "x=0\n",
    "while x<10:\n",
    "    x+=1\n",
    "\n",
    "    if x==6:\n",
    "        print(\"koi mil gya\")\n",
    "        continue\n",
    "    print(x)"
   ]
  },
  {
   "cell_type": "code",
   "execution_count": 29,
   "metadata": {},
   "outputs": [
    {
     "name": "stdout",
     "output_type": "stream",
     "text": [
      "1\n",
      "3\n",
      "5\n",
      "7\n",
      "9\n"
     ]
    }
   ],
   "source": [
    "x=0\n",
    "while x<10:\n",
    "    x+=1\n",
    "    if x % 2 == 0:\n",
    "        \n",
    "        continue\n",
    "    print(x)"
   ]
  },
  {
   "cell_type": "code",
   "execution_count": 3,
   "metadata": {},
   "outputs": [
    {
     "name": "stdout",
     "output_type": "stream",
     "text": [
      "0\n",
      "0\n",
      "1\n",
      "2\n",
      "2\n",
      "3\n",
      "4\n",
      "4\n",
      "5\n",
      "6\n",
      "6\n",
      "7\n",
      "8\n",
      "8\n",
      "9\n"
     ]
    }
   ],
   "source": [
    "for i in range(1,10):\n",
    "    print(i)\n",
    "    if i % 2 == 0:\n",
    "        print(i)"
   ]
  },
  {
   "cell_type": "code",
   "execution_count": 5,
   "metadata": {},
   "outputs": [
    {
     "name": "stdout",
     "output_type": "stream",
     "text": [
      "1\n",
      "3\n",
      "5\n",
      "7\n",
      "9\n",
      "11\n"
     ]
    }
   ],
   "source": [
    "for i in range(1,12):\n",
    "    if i%2==0:\n",
    "        continue\n",
    "    print(i)"
   ]
  },
  {
   "cell_type": "code",
   "execution_count": 8,
   "metadata": {},
   "outputs": [
    {
     "name": "stdout",
     "output_type": "stream",
     "text": [
      "this is wide ball 2 and not count the ball\n",
      "22\n"
     ]
    }
   ],
   "source": [
    "ball_faced =0\n",
    "runs_scord= 0\n",
    "\n",
    "while ball_faced<6:\n",
    "\n",
    "    run=int(input(\"enter the value\"))\n",
    "\n",
    "    if run == -1:\n",
    "        print(f\"this is wide ball {ball_faced} and not count the ball\")\n",
    "        continue\n",
    "    runs_scord+=run\n",
    "    ball_faced+= 1\n",
    "\n",
    "print(runs_scord)"
   ]
  },
  {
   "cell_type": "markdown",
   "metadata": {},
   "source": [
    "# pass"
   ]
  },
  {
   "cell_type": "code",
   "execution_count": 9,
   "metadata": {},
   "outputs": [
    {
     "name": "stdout",
     "output_type": "stream",
     "text": [
      "okk\n"
     ]
    }
   ],
   "source": [
    "x=5\n",
    "if x >  5:\n",
    "    pass\n",
    "else:\n",
    "    print(\"okk\")\n"
   ]
  },
  {
   "cell_type": "code",
   "execution_count": 12,
   "metadata": {},
   "outputs": [],
   "source": [
    "def myfun(x):\n",
    "    pass\n",
    "\n",
    "myfun(4)\n"
   ]
  },
  {
   "cell_type": "markdown",
   "metadata": {},
   "source": [
    "# excersise questions\n"
   ]
  },
  {
   "cell_type": "code",
   "execution_count": 17,
   "metadata": {},
   "outputs": [
    {
     "name": "stdout",
     "output_type": "stream",
     "text": [
      "650\n"
     ]
    }
   ],
   "source": [
    "sum=0 \n",
    "for i in range(1,51):\n",
    "    if i%2 != 0:\n",
    "       continue\n",
    "\n",
    "    sum=sum+i\n",
    "\n",
    "print(sum)\n"
   ]
  },
  {
   "cell_type": "code",
   "execution_count": 22,
   "metadata": {},
   "outputs": [
    {
     "name": "stdout",
     "output_type": "stream",
     "text": [
      "10\n",
      "11\n",
      "12\n",
      "13\n",
      "this is the 1ist multple of7 \n"
     ]
    }
   ],
   "source": [
    "for i in range(10,51):\n",
    "    if i%7 == 0:\n",
    "        print(\"this is the 1ist multple of7 \")\n",
    "        break\n",
    "    print(i)\n",
    "        "
   ]
  },
  {
   "cell_type": "code",
   "execution_count": 26,
   "metadata": {},
   "outputs": [
    {
     "name": "stdout",
     "output_type": "stream",
     "text": [
      "4\n"
     ]
    }
   ],
   "source": [
    "text = \" an apple is soo much  tasty and delcious\"\n",
    "count_a = 0\n",
    "for char in text:\n",
    "    if char !=\"a\" and char != \"A\":\n",
    "        continue\n",
    "    count_a+=1\n",
    "print(count_a)"
   ]
  },
  {
   "cell_type": "code",
   "execution_count": 30,
   "metadata": {},
   "outputs": [
    {
     "name": "stdout",
     "output_type": "stream",
     "text": [
      "11\n",
      "13\n",
      "17\n",
      "19\n",
      "23\n",
      "29\n"
     ]
    }
   ],
   "source": [
    "for num in range(10,31):\n",
    "    if num >1: \n",
    "        for i in range(2,num):\n",
    "            if num % i==0:\n",
    "                break # not prime\n",
    "        else:\n",
    "            print(num) # prime number    \n",
    "\n",
    "         "
   ]
  },
  {
   "cell_type": "code",
   "execution_count": 32,
   "metadata": {},
   "outputs": [
    {
     "name": "stdout",
     "output_type": "stream",
     "text": [
      "1\n",
      "2\n",
      "3\n",
      "4\n",
      "5\n",
      "-1\n",
      "negative value\n"
     ]
    }
   ],
   "source": [
    "l=[1,2,3,4,5,-1,4,5,6,7,8]\n",
    "for i in l:\n",
    "    if i== -1:\n",
    "        print(i)\n",
    "        print(\"negative value\")\n",
    "        break\n",
    "    print(i)"
   ]
  },
  {
   "cell_type": "code",
   "execution_count": 2,
   "metadata": {},
   "outputs": [
    {
     "name": "stdout",
     "output_type": "stream",
     "text": [
      "54321\n"
     ]
    }
   ],
   "source": [
    "number=12345\n",
    "reverse = 0\n",
    "while number>0:\n",
    "    remainder = number%10\n",
    "    reverse =(reverse*10)+ remainder\n",
    "    number //= 10\n",
    "\n",
    "print(reverse)\n",
    "    "
   ]
  },
  {
   "cell_type": "code",
   "execution_count": 3,
   "metadata": {},
   "outputs": [
    {
     "name": "stdout",
     "output_type": "stream",
     "text": [
      "15\n"
     ]
    }
   ],
   "source": [
    "number =12345\n",
    "\n",
    "sum =0\n",
    "while number>0:\n",
    "    sum+=number%10\n",
    "    number //=10\n",
    "\n",
    "print(sum)"
   ]
  },
  {
   "cell_type": "code",
   "execution_count": 1,
   "metadata": {},
   "outputs": [
    {
     "name": "stdout",
     "output_type": "stream",
     "text": [
      "10\n",
      "9\n",
      "8\n",
      "7\n",
      "6\n",
      "5\n",
      "4\n",
      "3\n",
      "2\n",
      "1\n",
      "time ups\n"
     ]
    }
   ],
   "source": [
    "import time\n",
    "\n",
    "countdown = 10\n",
    "while countdown >0:\n",
    "    print(countdown)\n",
    "    time.sleep(1)\n",
    "    countdown -= 1\n",
    "\n",
    "print(\"time ups\")"
   ]
  },
  {
   "cell_type": "code",
   "execution_count": null,
   "metadata": {},
   "outputs": [],
   "source": []
  }
 ],
 "metadata": {
  "kernelspec": {
   "display_name": "Python 3",
   "language": "python",
   "name": "python3"
  },
  "language_info": {
   "codemirror_mode": {
    "name": "ipython",
    "version": 3
   },
   "file_extension": ".py",
   "mimetype": "text/x-python",
   "name": "python",
   "nbconvert_exporter": "python",
   "pygments_lexer": "ipython3",
   "version": "3.11.9"
  }
 },
 "nbformat": 4,
 "nbformat_minor": 2
}
