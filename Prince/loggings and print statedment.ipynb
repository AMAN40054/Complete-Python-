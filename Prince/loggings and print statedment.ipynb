{
 "cells": [
  {
   "cell_type": "code",
   "execution_count": 1,
   "metadata": {},
   "outputs": [
    {
     "name": "stdout",
     "output_type": "stream",
     "text": [
      "this is my code\n"
     ]
    }
   ],
   "source": [
    "print(\"this is my code\")"
   ]
  },
  {
   "cell_type": "code",
   "execution_count": 2,
   "metadata": {},
   "outputs": [],
   "source": [
    "import logging"
   ]
  },
  {
   "cell_type": "code",
   "execution_count": 3,
   "metadata": {},
   "outputs": [
    {
     "name": "stderr",
     "output_type": "stream",
     "text": [
      "INFO-this is an info mesaage\n",
      "WARNING-this is a warning message\n"
     ]
    }
   ],
   "source": [
    "# configuring the logging system\n",
    "logging.basicConfig(level=logging.INFO, format='%(levelname)s-%(message)s')\n",
    "\n",
    "logging.info(\"this is an info mesaage\")\n",
    "logging.warning(\"this is a warning message\")"
   ]
  },
  {
   "cell_type": "markdown",
   "metadata": {},
   "source": [
    "# logging levels"
   ]
  },
  {
   "cell_type": "code",
   "execution_count": 2,
   "metadata": {},
   "outputs": [
    {
     "name": "stderr",
     "output_type": "stream",
     "text": [
      "DEBUG:myapp:this is a debug message\n",
      "INFO:myapp:this is a debug message\n",
      "WARNING:myapp:this is a debug message\n",
      "ERROR:myapp:this is a debug message\n",
      "CRITICAL:myapp:this is a debug message\n"
     ]
    }
   ],
   "source": [
    "import logging\n",
    "\n",
    "logging.basicConfig(level=logging.DEBUG)\n",
    "logger = logging.getLogger(\"myapp\")\n",
    "\n",
    "logger.debug(\"this is a debug message\")\n",
    "\n",
    "logger.info(\"this is a debug message\")\n",
    "\n",
    "logger.warning(\"this is a debug message\")\n",
    "logger.error(\"this is a debug message\")\n",
    "logger.critical(\"this is a debug message\")"
   ]
  },
  {
   "cell_type": "markdown",
   "metadata": {},
   "source": [
    "# logging configration"
   ]
  },
  {
   "cell_type": "markdown",
   "metadata": {},
   "source": [
    "Key Parameters of basicConfig()\n",
    "These are commonly used parameters in the basicConfig() function for Python logging:\n",
    "\n",
    "## level:\n",
    "\n",
    "Specifies the severity level of the root logger. Only messages at this level or higher will be logged. It helps filter logs based on their importance.\n",
    "Example values: logging.DEBUG, logging.INFO, logging.WARNING, logging.ERROR, logging.CRITICAL.\n",
    "## filename:\n",
    "\n",
    "Specifies the name of the file where logs will be stored. If this parameter is set, logs will be written to the specified file instead of the console.\n",
    "Example value: 'app.log'.\n",
    "## filemode:\n",
    "\n",
    "Specifies the mode in which the file is opened. The default mode is 'a' for append, but it can be set to 'w' to overwrite the log file each time the program runs.\n",
    "Example values: 'w' (overwrite), 'a' (append).\n",
    "## format:\n",
    "\n",
    "Defines the format of the log messages, including details such as timestamp, log level, logger name, and message content.\n",
    "\n",
    "\n",
    "\n",
    "\n",
    "\n"
   ]
  },
  {
   "cell_type": "code",
   "execution_count": 5,
   "metadata": {},
   "outputs": [],
   "source": [
    "import logging\n",
    "\n",
    "logging.basicConfig(\n",
    "    filename= 'text.log',\n",
    "    level=logging.INFO,\n",
    "    format='%(asctime)s - %(name)s - %(levelname)s - %(message)s',\n",
    "    datefmt='%Y-%m-%d %H:%M:%S',\n",
    "    filemode='w'\n",
    ")\n",
    "\n",
    "logger =logging.getLogger(\"myapp\")\n",
    "\n",
    "logger.debug(\"this is a debug message\")\n",
    "\n",
    "logger.info(\"this is a debug message\")\n",
    "\n",
    "logger.warning(\"this is a debug message\")\n",
    "logger.error(\"this is a debug message\")\n",
    "logger.critical(\"this is a debug message\")\n"
   ]
  },
  {
   "cell_type": "markdown",
   "metadata": {},
   "source": [
    "# logging with exception"
   ]
  },
  {
   "cell_type": "code",
   "execution_count": null,
   "metadata": {},
   "outputs": [],
   "source": []
  },
  {
   "cell_type": "code",
   "execution_count": null,
   "metadata": {},
   "outputs": [],
   "source": []
  },
  {
   "cell_type": "code",
   "execution_count": null,
   "metadata": {},
   "outputs": [],
   "source": []
  },
  {
   "cell_type": "markdown",
   "metadata": {},
   "source": [
    "# logging and exception handling\n"
   ]
  },
  {
   "cell_type": "code",
   "execution_count": 1,
   "metadata": {},
   "outputs": [],
   "source": [
    "import logging\n",
    "\n",
    "logging.basicConfig(filename = \"app.log\" ,level=logging.INFO,\n",
    "                    format='%(asctime)s - %(levelname)s - %(message)s')\n",
    "\n",
    "\n",
    "logger =logging.getLogger(__name__)\n",
    "\n",
    "\n",
    "def divide(a,b):\n",
    "    try:\n",
    "        return a/b\n",
    "    except ZeroDivisionError as e:\n",
    "        logger.exception(\"this is my zero division error\")\n",
    "\n",
    "\n",
    "divide(10,0)"
   ]
  },
  {
   "cell_type": "code",
   "execution_count": 2,
   "metadata": {},
   "outputs": [
    {
     "ename": "ZeroDivisionError",
     "evalue": "division by zero",
     "output_type": "error",
     "traceback": [
      "\u001b[1;31m---------------------------------------------------------------------------\u001b[0m",
      "\u001b[1;31mZeroDivisionError\u001b[0m                         Traceback (most recent call last)",
      "Cell \u001b[1;32mIn[2], line 7\u001b[0m\n\u001b[0;32m      1\u001b[0m \u001b[38;5;28;01mdef\u001b[39;00m \u001b[38;5;21mdivide\u001b[39m(a,b):\n\u001b[0;32m      3\u001b[0m         \u001b[38;5;28;01mreturn\u001b[39;00m a\u001b[38;5;241m/\u001b[39mb\n\u001b[1;32m----> 7\u001b[0m divide(\u001b[38;5;241;43m10\u001b[39;49m\u001b[38;5;241;43m/\u001b[39;49m\u001b[38;5;241;43m0\u001b[39;49m)\n",
      "\u001b[1;31mZeroDivisionError\u001b[0m: division by zero"
     ]
    }
   ],
   "source": [
    "def divide(a,b):\n",
    "    \n",
    "        return a/b\n",
    "   \n",
    "\n",
    "\n",
    "divide(10/0)"
   ]
  },
  {
   "cell_type": "code",
   "execution_count": null,
   "metadata": {},
   "outputs": [],
   "source": []
  }
 ],
 "metadata": {
  "kernelspec": {
   "display_name": "Python 3",
   "language": "python",
   "name": "python3"
  },
  "language_info": {
   "codemirror_mode": {
    "name": "ipython",
    "version": 3
   },
   "file_extension": ".py",
   "mimetype": "text/x-python",
   "name": "python",
   "nbconvert_exporter": "python",
   "pygments_lexer": "ipython3",
   "version": "3.11.9"
  }
 },
 "nbformat": 4,
 "nbformat_minor": 2
}
