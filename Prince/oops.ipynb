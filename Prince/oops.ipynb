{
 "cells": [
  {
   "cell_type": "markdown",
   "metadata": {},
   "source": [
    "# why to usse oops concept \n",
    "\n",
    "### '''modularity and reusability\n",
    "### Encapsulation and information hiding \n",
    "### Inheritance and code reuse\n",
    "### polymorphism and Flexibility\n",
    "### Abstraction and Simplification\n",
    "### '''"
   ]
  },
  {
   "cell_type": "code",
   "execution_count": 12,
   "metadata": {},
   "outputs": [
    {
     "name": "stdout",
     "output_type": "stream",
     "text": [
      "<class 'list'>\n",
      "1\n"
     ]
    }
   ],
   "source": [
    "l =[1,2,3,4]\n",
    "s=l.count(2)\n",
    "print(type (l))\n",
    "print(s)"
   ]
  },
  {
   "cell_type": "code",
   "execution_count": 8,
   "metadata": {},
   "outputs": [
    {
     "name": "stdout",
     "output_type": "stream",
     "text": [
      "<class 'str'>\n",
      "Aman\n"
     ]
    }
   ],
   "source": [
    "s =\"aman\"\n",
    "s1=s.capitalize()\n",
    "print(type(s))\n",
    "print(s1)"
   ]
  },
  {
   "cell_type": "code",
   "execution_count": 13,
   "metadata": {},
   "outputs": [],
   "source": [
    "class test:\n",
    "    pass"
   ]
  },
  {
   "cell_type": "code",
   "execution_count": 14,
   "metadata": {},
   "outputs": [],
   "source": [
    "t= test()"
   ]
  },
  {
   "cell_type": "code",
   "execution_count": 16,
   "metadata": {},
   "outputs": [
    {
     "name": "stdout",
     "output_type": "stream",
     "text": [
      "<class 'type'>\n",
      "<class '__main__.test'>\n"
     ]
    }
   ],
   "source": [
    "print(type(test))\n",
    "print(type(t))"
   ]
  },
  {
   "cell_type": "code",
   "execution_count": 23,
   "metadata": {},
   "outputs": [],
   "source": [
    "class aman:\n",
    "    a=5\n",
    "    b=7\n",
    "\n",
    "\n",
    "    def class_msg(self):\n",
    "       print(\"hey buddy come to my class\")"
   ]
  },
  {
   "cell_type": "code",
   "execution_count": 25,
   "metadata": {},
   "outputs": [
    {
     "name": "stdout",
     "output_type": "stream",
     "text": [
      "hey buddy come to my class\n"
     ]
    },
    {
     "data": {
      "text/plain": [
       "7"
      ]
     },
     "execution_count": 25,
     "metadata": {},
     "output_type": "execute_result"
    }
   ],
   "source": [
    "obj=aman()\n",
    "obj.class_msg()\n",
    "obj.a\n",
    "obj.b"
   ]
  },
  {
   "cell_type": "markdown",
   "metadata": {},
   "source": [
    "# what we can pass in class\n",
    "## variable : attribute ( inside the class)\n",
    "## function: method  (inside the class )\n",
    "## object : instance of class :variable of class"
   ]
  },
  {
   "cell_type": "code",
   "execution_count": null,
   "metadata": {},
   "outputs": [],
   "source": [
    "def __init__(self):\n",
    "# as we create object it will execute\n",
    "# init it help to pass the value inside the class\n",
    "# we donot have to call the constructor"
   ]
  },
  {
   "cell_type": "code",
   "execution_count": 31,
   "metadata": {},
   "outputs": [],
   "source": [
    "class object:\n",
    "\n",
    "    def __init__(self, name , age):\n",
    "        self.name= name\n",
    "        self.age = age\n",
    "        print(self.name)\n",
    "        print(self.age)\n",
    "        self.my()\n",
    "\n",
    "    def my(self):\n",
    "        print(\"bring up voice chat\")"
   ]
  },
  {
   "cell_type": "code",
   "execution_count": 32,
   "metadata": {},
   "outputs": [
    {
     "name": "stdout",
     "output_type": "stream",
     "text": [
      "aman\n",
      "65\n",
      "bring up voice chat\n"
     ]
    }
   ],
   "source": [
    "obj= object(\"aman\",65)\n"
   ]
  },
  {
   "cell_type": "code",
   "execution_count": null,
   "metadata": {},
   "outputs": [],
   "source": [
    "# parameterised constructor\n",
    "class object:\n",
    "\n",
    "    def __init__(self, name , age):\n",
    "        self.name= name\n",
    "        self.age = age\n",
    "        print(self.name)\n",
    "        print(self.age)\n",
    "        self.my()\n",
    "\n",
    "    def my(self):\n",
    "        print(\"bring up voice chat\")\n",
    "\n",
    "# when we pass value or we can say we have passe the values and call the function that is the the perametric function "
   ]
  },
  {
   "cell_type": "code",
   "execution_count": 38,
   "metadata": {},
   "outputs": [],
   "source": [
    "# non parametrised constructor\n",
    "class object:\n",
    "\n",
    "    def __init__(self):\n",
    "        print(id(self))\n",
    "        self.name= \"aman\"\n",
    "        self.age = 23\n",
    "        print(self.name)\n",
    "        print(self.age)\n",
    "        self.my()\n",
    "\n",
    "    def my(self):\n",
    "        print(\"bring up voice chat\")\n",
    "\n",
    "\n",
    "# direct pass the values that is non perametric contructor\n",
    "\n"
   ]
  },
  {
   "cell_type": "code",
   "execution_count": 39,
   "metadata": {},
   "outputs": [
    {
     "name": "stdout",
     "output_type": "stream",
     "text": [
      "2389224858576\n",
      "aman\n",
      "23\n",
      "bring up voice chat\n",
      "2389224858576\n"
     ]
    }
   ],
   "source": [
    "per1= object()\n",
    "print(id(per1))"
   ]
  },
  {
   "cell_type": "code",
   "execution_count": null,
   "metadata": {},
   "outputs": [],
   "source": [
    "# when we use self :: related to variable , method and function\n",
    "# golden rules :\n",
    "# self is current object which is presense inside the class\n",
    "# we can name anythink in place of self "
   ]
  },
  {
   "cell_type": "markdown",
   "metadata": {},
   "source": [
    "# magic method"
   ]
  },
  {
   "cell_type": "code",
   "execution_count": 40,
   "metadata": {},
   "outputs": [],
   "source": [
    " # __init__\n",
    "# __add__\n",
    "# __mul__\n",
    "# __str__"
   ]
  },
  {
   "cell_type": "code",
   "execution_count": 41,
   "metadata": {},
   "outputs": [],
   "source": [
    "# they are user for doing specific task on object "
   ]
  },
  {
   "cell_type": "code",
   "execution_count": 42,
   "metadata": {},
   "outputs": [
    {
     "data": {
      "text/plain": [
       "[21, 5, 12, 34]"
      ]
     },
     "execution_count": 42,
     "metadata": {},
     "output_type": "execute_result"
    }
   ],
   "source": [
    "l=[21,5]\n",
    "l1=[12,34]\n",
    "l+l1"
   ]
  },
  {
   "cell_type": "code",
   "execution_count": null,
   "metadata": {},
   "outputs": [],
   "source": [
    "class myclass():\n",
    "    def __init__(self,value):\n",
    "        self.value=value\n",
    "        print(self.value)\n",
    "\n",
    "\n",
    "\n",
    "    def __add__(self,other):\n",
    "        return self.value+ other.value\n",
    "    def __sub__(self,other):\n",
    "        return self.value - other.value\n",
    "    \n",
    "\n",
    "    def __mul "
   ]
  },
  {
   "cell_type": "code",
   "execution_count": 65,
   "metadata": {},
   "outputs": [
    {
     "name": "stdout",
     "output_type": "stream",
     "text": [
      "43\n",
      "54\n",
      "-11\n"
     ]
    }
   ],
   "source": [
    "m=myclass(43)\n",
    "m1=myclass(54)\n",
    "print(m-m1)\n"
   ]
  },
  {
   "cell_type": "markdown",
   "metadata": {},
   "source": [
    "# Encapsulation"
   ]
  },
  {
   "cell_type": "code",
   "execution_count": 10,
   "metadata": {},
   "outputs": [],
   "source": [
    "class Bankaccount:\n",
    "    def __init__(self,account_number,balance):\n",
    "        self.account_number= account_number\n",
    "        self.balance = balance\n",
    "\n",
    "    def deposite(self,amount):\n",
    "        self.balance=self.balance + amount\n",
    "        print(\"total deposit amount is \",self.balance)\n",
    "        \n",
    "\n",
    "    def withdraw(self,amount):\n",
    "        if amount >= self.balance :\n",
    "            print(\"phele itna pessa kma\")\n",
    "\n",
    "        else:\n",
    "            self.balance =self.balance -amount\n",
    "            print(f\"you can withdraw {amount} and remaining amount is {self.balance}\")\n",
    "\n",
    "    def check_balance(self):\n",
    "        print(self.balance)"
   ]
  },
  {
   "cell_type": "code",
   "execution_count": 13,
   "metadata": {},
   "outputs": [
    {
     "name": "stdout",
     "output_type": "stream",
     "text": [
      "total deposit amount is  3500\n",
      "you can withdraw 2000 and remaining amount is 1500\n",
      "1500\n"
     ]
    }
   ],
   "source": [
    "hell = Bankaccount(\"124343\",2000)\n",
    "hell.deposite(1500)\n",
    "hell.withdraw(2000)\n",
    "hell.check_balance()"
   ]
  },
  {
   "cell_type": "markdown",
   "metadata": {},
   "source": [
    "# encapsulation"
   ]
  },
  {
   "cell_type": "code",
   "execution_count": 16,
   "metadata": {},
   "outputs": [
    {
     "data": {
      "text/plain": [
       "'male'"
      ]
     },
     "execution_count": 16,
     "metadata": {},
     "output_type": "execute_result"
    }
   ],
   "source": [
    "class person:\n",
    "    def __init__(self,name,gender):\n",
    "        self.name= name\n",
    "        self.gender=gender\n",
    "\n",
    "p = person(\"aman\",\"male\")\n",
    "p.gender\n"
   ]
  },
  {
   "cell_type": "code",
   "execution_count": 19,
   "metadata": {},
   "outputs": [
    {
     "data": {
      "text/plain": [
       "'male'"
      ]
     },
     "execution_count": 19,
     "metadata": {},
     "output_type": "execute_result"
    }
   ],
   "source": [
    "p=person(\"aman\",\"male\")  # acess \n",
    "q=p \n",
    "q.gender  # p or q is only strong the reference of the memory\n"
   ]
  },
  {
   "cell_type": "code",
   "execution_count": 21,
   "metadata": {},
   "outputs": [
    {
     "data": {
      "text/plain": [
       "'pushpansh'"
      ]
     },
     "execution_count": 21,
     "metadata": {},
     "output_type": "execute_result"
    }
   ],
   "source": [
    "p.name=\"pushpansh\" # to prevent the changes in y class\n",
    "p.name"
   ]
  },
  {
   "cell_type": "code",
   "execution_count": null,
   "metadata": {},
   "outputs": [
    {
     "name": "stdout",
     "output_type": "stream",
     "text": [
      "aman\n",
      "male\n"
     ]
    }
   ],
   "source": [
    "class person:\n",
    "    def __init__(self,name,gender):\n",
    "        self.name= name\n",
    "        self.gender=gender\n",
    "\n",
    "def my(person):\n",
    "    print(person.name)\n",
    "    print(person.gender)\n",
    "\n",
    "\n",
    "p = person(\"aman\",\"male\")\n",
    "\n",
    "my (p)\n",
    "\n",
    "'''you're passing an object of the person class to the great function. when you do this is pythan\n",
    "you're actually passing a refernece to the object. this means that any changes made to the object\n",
    "within the function will affect the origenal object outside the function. this concept in nown as\n",
    "by reference'''"
   ]
  },
  {
   "cell_type": "code",
   "execution_count": 27,
   "metadata": {},
   "outputs": [
    {
     "name": "stdout",
     "output_type": "stream",
     "text": [
      "aman\n",
      "male\n"
     ]
    },
    {
     "data": {
      "text/plain": [
       "'male'"
      ]
     },
     "execution_count": 27,
     "metadata": {},
     "output_type": "execute_result"
    }
   ],
   "source": [
    "class person:\n",
    "    def __init__(self,name,gender):\n",
    "        self.name= name\n",
    "        self.gender=gender\n",
    "\n",
    "def my(p):\n",
    "    print(p.name)\n",
    "    print(p.gender)\n",
    "    p1=person(\"ankit\",\"male\")\n",
    "    return p1\n",
    " \n",
    "\n",
    "p = person(\"aman\",\"male\")\n",
    "\n",
    "f=my (p)\n",
    "f.name\n",
    "f.gender\n"
   ]
  },
  {
   "cell_type": "code",
   "execution_count": 28,
   "metadata": {},
   "outputs": [
    {
     "name": "stdout",
     "output_type": "stream",
     "text": [
      "aman\n",
      "male\n",
      "ankit\n"
     ]
    }
   ],
   "source": [
    "class person:\n",
    "    def __init__(self,name,gender):\n",
    "        self.name= name\n",
    "        self.gender=gender\n",
    "\n",
    "def my(person):\n",
    "    print(person.name)\n",
    "    print(person.gender)\n",
    "    p.name=\"ankit\"\n",
    "    print(p.name)\n",
    "\n",
    "\n",
    "p = person(\"aman\",\"male\")\n",
    "\n",
    "my (p)"
   ]
  },
  {
   "cell_type": "code",
   "execution_count": 44,
   "metadata": {},
   "outputs": [],
   "source": [
    "class Bankaccount:\n",
    "    def __init__(self,account_number,__balance):\n",
    "        self.account_number= account_number\n",
    "        self.__balance = __balance\n",
    "\n",
    "    def deposite(self,amount):\n",
    "        self.__balance=self.__balance + amount\n",
    "        print(\"total deposit amount is \",self.__balance)\n",
    "        \n",
    "\n",
    "    def withdraw(self,amount):\n",
    "        if amount >= self.__balance :\n",
    "            print(\"phele itna pessa kma\")\n",
    "\n",
    "        else:\n",
    "            self.__balance =self.__balance -amount\n",
    "            print(f\"you can withdraw {amount} and remaining amount is {self.__balance}\")\n",
    "\n",
    "    def check_balance(self):\n",
    "        print(self.__balance)"
   ]
  },
  {
   "cell_type": "code",
   "execution_count": 45,
   "metadata": {},
   "outputs": [
    {
     "name": "stdout",
     "output_type": "stream",
     "text": [
      "total deposit amount is  3500\n",
      "you can withdraw 2000 and remaining amount is 1500\n",
      "1500\n"
     ]
    }
   ],
   "source": [
    "hell = Bankaccount(\"124343\",2000)\n",
    "hell.deposite(1500)\n",
    "hell.withdraw(2000)\n",
    "hell.check_balance()"
   ]
  },
  {
   "cell_type": "code",
   "execution_count": null,
   "metadata": {},
   "outputs": [],
   "source": [
    "# __to make a variable or method private \n",
    "# in pythan we cannot make anything completly private \n",
    "\n",
    "# how to access:\n",
    "## getter method ()\n",
    "## setter method ()"
   ]
  },
  {
   "cell_type": "code",
   "execution_count": 46,
   "metadata": {},
   "outputs": [
    {
     "ename": "AttributeError",
     "evalue": "'Bankaccount' object has no attribute '__balance'",
     "output_type": "error",
     "traceback": [
      "\u001b[1;31m---------------------------------------------------------------------------\u001b[0m",
      "\u001b[1;31mAttributeError\u001b[0m                            Traceback (most recent call last)",
      "Cell \u001b[1;32mIn[46], line 2\u001b[0m\n\u001b[0;32m      1\u001b[0m hell \u001b[38;5;241m=\u001b[39m Bankaccount(\u001b[38;5;124m\"\u001b[39m\u001b[38;5;124m124343\u001b[39m\u001b[38;5;124m\"\u001b[39m,\u001b[38;5;241m2000\u001b[39m)\n\u001b[1;32m----> 2\u001b[0m \u001b[43mhell\u001b[49m\u001b[38;5;241;43m.\u001b[39;49m\u001b[43m__balance\u001b[49m\n",
      "\u001b[1;31mAttributeError\u001b[0m: 'Bankaccount' object has no attribute '__balance'"
     ]
    }
   ],
   "source": [
    "hell = Bankaccount(\"124343\",2000)\n",
    "hell.__balance"
   ]
  },
  {
   "cell_type": "code",
   "execution_count": 47,
   "metadata": {},
   "outputs": [
    {
     "name": "stdout",
     "output_type": "stream",
     "text": [
      "total deposit amount is  2900\n"
     ]
    }
   ],
   "source": [
    "hell = Bankaccount(\"124343\",2000)\n",
    "hell._Bankaccount__balance\n",
    "hell.deposite(900)"
   ]
  },
  {
   "cell_type": "code",
   "execution_count": 61,
   "metadata": {},
   "outputs": [],
   "source": [
    "class car:\n",
    "\n",
    "    def __init__(self,year,model,make,speed) :\n",
    "        self.__year=year\n",
    "        self.__model=model\n",
    "        self.__make=make\n",
    "        self.__speed=0\n",
    "        \n",
    "    def set_speed(self,speed):\n",
    "        self.__speed=0 if speed < 0 else speed\n",
    "\n",
    "    def get_speed(self):\n",
    "        return self.__speed"
   ]
  },
  {
   "cell_type": "code",
   "execution_count": 63,
   "metadata": {},
   "outputs": [
    {
     "data": {
      "text/plain": [
       "123"
      ]
     },
     "execution_count": 63,
     "metadata": {},
     "output_type": "execute_result"
    }
   ],
   "source": [
    "c=car(2020,\"lambo\",\"hurican\",200)\n",
    "c.set_speed(123)\n",
    "c.get_speed()"
   ]
  },
  {
   "cell_type": "code",
   "execution_count": 1,
   "metadata": {},
   "outputs": [],
   "source": [
    "class bankaccount:\n",
    "\n",
    "    def __init__(self,__balance):\n",
    "        self.__balance=__balance\n",
    "\n",
    "    def deposit(self,amount):\n",
    "        self.__balance =self.__balance +amount\n",
    "        print(self.__balance)\n",
    "\n",
    "    def withdraw(self,amount):\n",
    "        if self.__balance>=amount:\n",
    "            self.__balance=self.__balance-amount\n",
    "            print(self.__balance)\n",
    "\n",
    "        else:\n",
    "            print(\"phele itne passe to kmma le\")\n",
    "\n",
    "    def get_balance(self):\n",
    "        return self.__balance\n",
    "\n",
    "     \n",
    "\n",
    "       "
   ]
  },
  {
   "cell_type": "code",
   "execution_count": 2,
   "metadata": {},
   "outputs": [],
   "source": [
    "b=bankaccount(2000)"
   ]
  },
  {
   "cell_type": "code",
   "execution_count": 3,
   "metadata": {},
   "outputs": [
    {
     "name": "stdout",
     "output_type": "stream",
     "text": [
      "2800\n"
     ]
    }
   ],
   "source": [
    "b.deposit(800)"
   ]
  },
  {
   "cell_type": "code",
   "execution_count": 4,
   "metadata": {},
   "outputs": [
    {
     "name": "stdout",
     "output_type": "stream",
     "text": [
      "1900\n"
     ]
    }
   ],
   "source": [
    "b.withdraw(900)"
   ]
  },
  {
   "cell_type": "code",
   "execution_count": 7,
   "metadata": {},
   "outputs": [
    {
     "data": {
      "text/plain": [
       "1900"
      ]
     },
     "execution_count": 7,
     "metadata": {},
     "output_type": "execute_result"
    }
   ],
   "source": [
    "b.get_balance()"
   ]
  },
  {
   "cell_type": "code",
   "execution_count": 5,
   "metadata": {},
   "outputs": [],
   "source": [
    "# static and instance variable\n",
    "\n",
    "# instance variable store vlaue for a period of object life time \n",
    "# static variable store value for a period of the class life time\n",
    "\n",
    "\n",
    "# instance variable can acess through object\n",
    "# static variable can acess through class\n",
    "\n",
    "# instance variable is realted to object\n",
    "# static variable is realted to class\n"
   ]
  },
  {
   "cell_type": "code",
   "execution_count": 6,
   "metadata": {},
   "outputs": [],
   "source": [
    "class bankaccount:\n",
    "\n",
    "    bank_name = \"mybank\"  #static variable\n",
    "\n",
    "    def __init__(self,__balance):\n",
    "        self.__balance=__balance\n",
    "\n",
    "    def deposit(self,amount):\n",
    "        self.__balance =self.__balance +amount\n",
    "        print(self.__balance)\n",
    "\n",
    "    def withdraw(self,amount):\n",
    "        if self.__balance>=amount:\n",
    "            self.__balance=self.__balance-amount\n",
    "            print(self.__balance)\n",
    "\n",
    "        else:\n",
    "            print(\"phele itne passe to kmma le\")\n",
    "\n",
    "    def get_balance(self):\n",
    "        return self.__balance"
   ]
  },
  {
   "cell_type": "code",
   "execution_count": 8,
   "metadata": {},
   "outputs": [
    {
     "data": {
      "text/plain": [
       "'mybank'"
      ]
     },
     "execution_count": 8,
     "metadata": {},
     "output_type": "execute_result"
    }
   ],
   "source": [
    "bankaccount.bank_name"
   ]
  },
  {
   "cell_type": "code",
   "execution_count": 10,
   "metadata": {},
   "outputs": [
    {
     "data": {
      "text/plain": [
       "2000"
      ]
     },
     "execution_count": 10,
     "metadata": {},
     "output_type": "execute_result"
    }
   ],
   "source": [
    "b=bankaccount(2000)\n",
    "b.get_balance()"
   ]
  },
  {
   "cell_type": "markdown",
   "metadata": {},
   "source": [
    "# inheritance"
   ]
  },
  {
   "cell_type": "code",
   "execution_count": 11,
   "metadata": {},
   "outputs": [],
   "source": [
    "# what is inheritance?\n",
    "# real life examples to use the inheritance  ?\n",
    "# what is superclass and subclass ?\n",
    "# why we use it\n",
    "# where we use it\n",
    "# which things we can inherit?\n",
    "# which we can not iherit ?\n",
    "# what is the use of super ke theyword?\n",
    "# what is the concept overriding ?\n",
    "# what are the typees of inheritiance?"
   ]
  },
  {
   "cell_type": "code",
   "execution_count": 19,
   "metadata": {},
   "outputs": [],
   "source": [
    "class test ():\n",
    "\n",
    "    def __init__(self,name): \n",
    "        self.name=\"aman\"\n",
    "    def test_1(self):\n",
    "        return(\"this is my 1st class\")"
   ]
  },
  {
   "cell_type": "code",
   "execution_count": 20,
   "metadata": {},
   "outputs": [],
   "source": [
    "class child_test(test):\n",
    "    pass"
   ]
  },
  {
   "cell_type": "code",
   "execution_count": 21,
   "metadata": {},
   "outputs": [
    {
     "data": {
      "text/plain": [
       "'this is my 1st class'"
      ]
     },
     "execution_count": 21,
     "metadata": {},
     "output_type": "execute_result"
    }
   ],
   "source": [
    "child=child_test(\"aman\")\n",
    "child.test_1()"
   ]
  },
  {
   "cell_type": "code",
   "execution_count": 22,
   "metadata": {},
   "outputs": [
    {
     "data": {
      "text/plain": [
       "'aman'"
      ]
     },
     "execution_count": 22,
     "metadata": {},
     "output_type": "execute_result"
    }
   ],
   "source": [
    "child.name"
   ]
  },
  {
   "cell_type": "code",
   "execution_count": null,
   "metadata": {},
   "outputs": [],
   "source": []
  },
  {
   "cell_type": "code",
   "execution_count": 27,
   "metadata": {},
   "outputs": [],
   "source": [
    "class phone():\n",
    "    def __init__(self,price,brand):\n",
    "        print(\"hum character k andr aa chuke h \")\n",
    "        self.price=price\n",
    "        self.brand=brand\n",
    "\n",
    "\n",
    "    def buy(self):\n",
    "        print(\"phone khridna h\")\n",
    "\n",
    "\n",
    "\n",
    "class mobilephone(phone):\n",
    "    pass"
   ]
  },
  {
   "cell_type": "code",
   "execution_count": 28,
   "metadata": {},
   "outputs": [
    {
     "name": "stdout",
     "output_type": "stream",
     "text": [
      "hum character k andr aa chuke h \n"
     ]
    }
   ],
   "source": [
    "s=mobilephone(50000,\"apple\")\n"
   ]
  },
  {
   "cell_type": "markdown",
   "metadata": {},
   "source": [
    "# private class inheritance"
   ]
  },
  {
   "cell_type": "code",
   "execution_count": 38,
   "metadata": {},
   "outputs": [],
   "source": [
    "class device():\n",
    "\n",
    "    def __init__(self,battery,price,camera,model):\n",
    "        print(\"aap charcter k andr aa chuke h \") \n",
    "        self.__price=price\n",
    "        self.model=model\n",
    "        self.battery=battery\n",
    "        self.camera=camera\n",
    "\n",
    "    def show(self):\n",
    "        print(self.__price)\n",
    "\n",
    "class mobile(device):\n",
    "\n",
    "    def check(self):\n",
    "        print(self.__price)\n",
    "\n",
    "\n",
    "\n",
    "    "
   ]
  },
  {
   "cell_type": "code",
   "execution_count": 39,
   "metadata": {},
   "outputs": [
    {
     "name": "stdout",
     "output_type": "stream",
     "text": [
      "aap charcter k andr aa chuke h \n"
     ]
    }
   ],
   "source": [
    "a=mobile(5000,50000,\"dslr\",\"iphone\")"
   ]
  },
  {
   "cell_type": "code",
   "execution_count": 40,
   "metadata": {},
   "outputs": [
    {
     "name": "stdout",
     "output_type": "stream",
     "text": [
      "50000\n"
     ]
    }
   ],
   "source": [
    "a.show()"
   ]
  },
  {
   "cell_type": "code",
   "execution_count": 41,
   "metadata": {},
   "outputs": [
    {
     "ename": "AttributeError",
     "evalue": "'mobile' object has no attribute '_mobile__price'",
     "output_type": "error",
     "traceback": [
      "\u001b[1;31m---------------------------------------------------------------------------\u001b[0m",
      "\u001b[1;31mAttributeError\u001b[0m                            Traceback (most recent call last)",
      "Cell \u001b[1;32mIn[41], line 1\u001b[0m\n\u001b[1;32m----> 1\u001b[0m \u001b[43ma\u001b[49m\u001b[38;5;241;43m.\u001b[39;49m\u001b[43mcheck\u001b[49m\u001b[43m(\u001b[49m\u001b[43m)\u001b[49m\n",
      "Cell \u001b[1;32mIn[38], line 16\u001b[0m, in \u001b[0;36mmobile.check\u001b[1;34m(self)\u001b[0m\n\u001b[0;32m     15\u001b[0m \u001b[38;5;28;01mdef\u001b[39;00m \u001b[38;5;21mcheck\u001b[39m(\u001b[38;5;28mself\u001b[39m):\n\u001b[1;32m---> 16\u001b[0m     \u001b[38;5;28mprint\u001b[39m(\u001b[38;5;28;43mself\u001b[39;49m\u001b[38;5;241;43m.\u001b[39;49m\u001b[43m__price\u001b[49m)\n",
      "\u001b[1;31mAttributeError\u001b[0m: 'mobile' object has no attribute '_mobile__price'"
     ]
    }
   ],
   "source": [
    "a.check()"
   ]
  },
  {
   "cell_type": "markdown",
   "metadata": {},
   "source": [
    "# super key word\n"
   ]
  },
  {
   "cell_type": "code",
   "execution_count": 49,
   "metadata": {},
   "outputs": [],
   "source": [
    "class person():\n",
    "\n",
    "    def __init__(self,name,age):\n",
    "        self.name=name\n",
    "        self.age=age\n",
    "\n",
    "    def display(self):\n",
    "        print(self.name,self.age)\n",
    "\n",
    "class student(person):\n",
    "\n",
    "    def __init__(self, name, age):\n",
    "\n",
    "        self.sName=name\n",
    "        self.sAge=age\n",
    "\n",
    "        super().__init__(\"pushpansh\",25)\n",
    "\n",
    "\n",
    "    def displayinfo(self):\n",
    "        print(self.sName,self.sAge)"
   ]
  },
  {
   "cell_type": "code",
   "execution_count": 50,
   "metadata": {},
   "outputs": [],
   "source": [
    "a=student(\"aman\",24)"
   ]
  },
  {
   "cell_type": "code",
   "execution_count": 51,
   "metadata": {},
   "outputs": [
    {
     "name": "stdout",
     "output_type": "stream",
     "text": [
      "pushpansh 25\n"
     ]
    }
   ],
   "source": [
    "a.display()"
   ]
  },
  {
   "cell_type": "code",
   "execution_count": 52,
   "metadata": {},
   "outputs": [
    {
     "name": "stdout",
     "output_type": "stream",
     "text": [
      "aman 24\n"
     ]
    }
   ],
   "source": [
    "a.displayinfo()"
   ]
  },
  {
   "cell_type": "markdown",
   "metadata": {},
   "source": [
    "# over riding"
   ]
  },
  {
   "cell_type": "code",
   "execution_count": 54,
   "metadata": {},
   "outputs": [],
   "source": [
    "class phone():\n",
    "     def __init__(self,prince,brand,camera):\n",
    "          print(\"inside the constructor\")\n",
    "          self.price=prince\n",
    "          self.brand=brand\n",
    "          self.camera=camera\n",
    "\n",
    "          def buy(self):\n",
    "               print(\"byiyng aa phone\")\n",
    "\n",
    "\n",
    "class samrtphone(phone):\n",
    "     \n",
    "     def buy(self):\n",
    "          print(\"buying aa samrtphone\")"
   ]
  },
  {
   "cell_type": "code",
   "execution_count": 55,
   "metadata": {},
   "outputs": [
    {
     "name": "stdout",
     "output_type": "stream",
     "text": [
      "inside the constructor\n"
     ]
    }
   ],
   "source": [
    "a=samrtphone(10000,\"iphone\",\"5mp\")"
   ]
  },
  {
   "cell_type": "code",
   "execution_count": 56,
   "metadata": {},
   "outputs": [
    {
     "name": "stdout",
     "output_type": "stream",
     "text": [
      "buying aa samrtphone\n"
     ]
    }
   ],
   "source": [
    "a.buy()"
   ]
  },
  {
   "cell_type": "markdown",
   "metadata": {},
   "source": [
    "# types of inheritance"
   ]
  },
  {
   "cell_type": "code",
   "execution_count": 57,
   "metadata": {},
   "outputs": [],
   "source": [
    "# single inheritance\n",
    "# multiple inheritance :- two parent and one child\n",
    "# multilevel inheritance:- given the property son to son means given aaa generation vise\n",
    "# hierarchical inheritance:- distributed the property in multiple sons at aa time of death\n",
    "# hybrid inheritance:-"
   ]
  },
  {
   "cell_type": "code",
   "execution_count": 1,
   "metadata": {},
   "outputs": [],
   "source": [
    "class device :\n",
    "    def review(self):\n",
    "        print(\"product is good\")\n",
    "\n",
    "class phone(device):\n",
    "    def __init__(self,price,brand , camera):\n",
    "        self.price = price\n",
    "        self.brand = brand\n",
    "        self.camera =camera\n",
    "\n",
    "    def buy(self):\n",
    "        print(\"buying aa phone\")\n",
    "\n",
    "class smartphone(phone):\n",
    "    pass\n",
    "        \n",
    "    "
   ]
  },
  {
   "cell_type": "code",
   "execution_count": 2,
   "metadata": {},
   "outputs": [],
   "source": [
    "a=smartphone(10000,\"apple\",\"10mp\")"
   ]
  },
  {
   "cell_type": "code",
   "execution_count": 3,
   "metadata": {},
   "outputs": [
    {
     "data": {
      "text/plain": [
       "10000"
      ]
     },
     "execution_count": 3,
     "metadata": {},
     "output_type": "execute_result"
    }
   ],
   "source": [
    "a.price"
   ]
  },
  {
   "cell_type": "code",
   "execution_count": 6,
   "metadata": {},
   "outputs": [
    {
     "name": "stdout",
     "output_type": "stream",
     "text": [
      "buying aa phone\n",
      "product is good\n"
     ]
    }
   ],
   "source": [
    "a.buy()\n",
    "a.review()"
   ]
  },
  {
   "cell_type": "code",
   "execution_count": 7,
   "metadata": {},
   "outputs": [],
   "source": [
    "# hierarchical inheritance"
   ]
  },
  {
   "cell_type": "code",
   "execution_count": 1,
   "metadata": {},
   "outputs": [],
   "source": [
    "class device:\n",
    "    def __init__(self,price,brand,camera):\n",
    "        self.price=price\n",
    "        self.brand=brand\n",
    "        self.camera=camera\n",
    "\n",
    "    def buy(self):\n",
    "        print(\"buying a device\")\n",
    "\n",
    "\n",
    "\n",
    "class smartphone(device):\n",
    "    pass\n",
    "\n",
    "class smartphone1(device):\n",
    "    pass"
   ]
  },
  {
   "cell_type": "code",
   "execution_count": 2,
   "metadata": {},
   "outputs": [],
   "source": [
    "s= smartphone(10000,\"apple\",\"1000mp\")"
   ]
  },
  {
   "cell_type": "code",
   "execution_count": 3,
   "metadata": {},
   "outputs": [
    {
     "data": {
      "text/plain": [
       "'1000mp'"
      ]
     },
     "execution_count": 3,
     "metadata": {},
     "output_type": "execute_result"
    }
   ],
   "source": [
    "s.camera"
   ]
  },
  {
   "cell_type": "code",
   "execution_count": 4,
   "metadata": {},
   "outputs": [],
   "source": [
    "s1=smartphone1(10000,\"samsung\",\"10mp\")"
   ]
  },
  {
   "cell_type": "code",
   "execution_count": 5,
   "metadata": {},
   "outputs": [
    {
     "name": "stdout",
     "output_type": "stream",
     "text": [
      "buying a device\n"
     ]
    }
   ],
   "source": [
    "s1.camera\n",
    "s1.buy()"
   ]
  },
  {
   "cell_type": "code",
   "execution_count": 6,
   "metadata": {},
   "outputs": [],
   "source": [
    "#multiple inheritance"
   ]
  },
  {
   "cell_type": "code",
   "execution_count": 7,
   "metadata": {},
   "outputs": [],
   "source": [
    "class phone:\n",
    "    def __init__(self,price,brand,camera):\n",
    "        self.price=price\n",
    "        self.brand=brand\n",
    "        self.camera=camera\n",
    "\n",
    "    def buy(self):\n",
    "        print(\"buying a device\")\n",
    "\n",
    "\n",
    "\n",
    "class product:\n",
    "    def review(self):\n",
    "        print(\"productis ggod\")\n",
    "\n",
    "class smartphone1(phone,product):\n",
    "    pass "
   ]
  },
  {
   "cell_type": "code",
   "execution_count": 11,
   "metadata": {},
   "outputs": [
    {
     "name": "stdout",
     "output_type": "stream",
     "text": [
      "buying a device\n"
     ]
    }
   ],
   "source": [
    "s=smartphone1(20000,\"apple\",\"1000mp\")\n",
    "s.buy()"
   ]
  },
  {
   "cell_type": "markdown",
   "metadata": {},
   "source": [
    "# class method"
   ]
  },
  {
   "cell_type": "code",
   "execution_count": 39,
   "metadata": {},
   "outputs": [],
   "source": [
    "class my():\n",
    "\n",
    "    mobile_number=1243546\n",
    "\n",
    "    def __init__(self,name,email):\n",
    "        self.name = name\n",
    "        self.email=email\n",
    "    \n",
    "    @classmethod\n",
    "    def change_number(cls,mobile):\n",
    "        my.mobile_number= mobile\n",
    "    \n",
    "    @classmethod\n",
    "    def details(cls,name,email):\n",
    "        return cls(name,email)\n",
    "\n",
    "\n",
    "    def my_detail(self):\n",
    "        print(self.name,self.email)\n",
    "        "
   ]
  },
  {
   "cell_type": "code",
   "execution_count": 15,
   "metadata": {},
   "outputs": [
    {
     "name": "stdout",
     "output_type": "stream",
     "text": [
      "aman aman@gmail.com\n"
     ]
    }
   ],
   "source": [
    "m1=my(\"aman\",\"aman@gmail.com\")\n",
    "m1.my_detail()"
   ]
  },
  {
   "cell_type": "code",
   "execution_count": 20,
   "metadata": {},
   "outputs": [
    {
     "data": {
      "text/plain": [
       "'aman'"
      ]
     },
     "execution_count": 20,
     "metadata": {},
     "output_type": "execute_result"
    }
   ],
   "source": [
    "my.details(\"aman\",\"aman@gmail\").name"
   ]
  },
  {
   "cell_type": "code",
   "execution_count": 42,
   "metadata": {},
   "outputs": [
    {
     "data": {
      "text/plain": [
       "1243546"
      ]
     },
     "execution_count": 42,
     "metadata": {},
     "output_type": "execute_result"
    }
   ],
   "source": [
    "my.mobile_number"
   ]
  },
  {
   "cell_type": "code",
   "execution_count": 36,
   "metadata": {},
   "outputs": [],
   "source": [
    "my.change_number(1534512)"
   ]
  },
  {
   "cell_type": "code",
   "execution_count": 38,
   "metadata": {},
   "outputs": [
    {
     "data": {
      "text/plain": [
       "1534512"
      ]
     },
     "execution_count": 38,
     "metadata": {},
     "output_type": "execute_result"
    }
   ],
   "source": [
    "my.mobile_number"
   ]
  },
  {
   "cell_type": "code",
   "execution_count": 82,
   "metadata": {},
   "outputs": [],
   "source": [
    "class my1():\n",
    "\n",
    "    mobile_num=8954985740975\n",
    "\n",
    "    def __init__(self,name,email):\n",
    "        self.name =name\n",
    "        self.email =email\n",
    "\n",
    "    @classmethod\n",
    "    def change_num(cls,mobile):\n",
    "        my1.mobile_num = mobile\n",
    "\n",
    "    @classmethod\n",
    "    def details(cls,name,email):\n",
    "        return cls(name,email)\n",
    "\n",
    "\n",
    "    def my_detail(self):\n",
    "        print(self.name,self.email,my1.mobile_num)\n",
    "\n",
    "        "
   ]
  },
  {
   "cell_type": "code",
   "execution_count": 78,
   "metadata": {},
   "outputs": [
    {
     "name": "stdout",
     "output_type": "stream",
     "text": [
      "aman aman@my\n"
     ]
    }
   ],
   "source": [
    "s1=my1(\"aman\",\"aman@my\")\n",
    "s1.my_detail()"
   ]
  },
  {
   "cell_type": "code",
   "execution_count": 53,
   "metadata": {},
   "outputs": [
    {
     "data": {
      "text/plain": [
       "'aman'"
      ]
     },
     "execution_count": 53,
     "metadata": {},
     "output_type": "execute_result"
    }
   ],
   "source": [
    "my1.details(\"aman\",\"aman@my\").name"
   ]
  },
  {
   "cell_type": "code",
   "execution_count": 52,
   "metadata": {},
   "outputs": [
    {
     "data": {
      "text/plain": [
       "8954985740975"
      ]
     },
     "execution_count": 52,
     "metadata": {},
     "output_type": "execute_result"
    }
   ],
   "source": [
    "my1.mobile_num"
   ]
  },
  {
   "cell_type": "code",
   "execution_count": 63,
   "metadata": {},
   "outputs": [],
   "source": [
    "my1.change_num(85749759465)"
   ]
  },
  {
   "cell_type": "code",
   "execution_count": 64,
   "metadata": {},
   "outputs": [
    {
     "data": {
      "text/plain": [
       "85749759465"
      ]
     },
     "execution_count": 64,
     "metadata": {},
     "output_type": "execute_result"
    }
   ],
   "source": [
    "my1.mobile_num"
   ]
  },
  {
   "cell_type": "code",
   "execution_count": 83,
   "metadata": {},
   "outputs": [
    {
     "name": "stdout",
     "output_type": "stream",
     "text": [
      "pushpansh pushpansh@my 8954985740975\n"
     ]
    }
   ],
   "source": [
    "int=my1(\"pushpansh\",\"pushpansh@my\")\n",
    "int.my_detail()"
   ]
  },
  {
   "cell_type": "code",
   "execution_count": 84,
   "metadata": {},
   "outputs": [],
   "source": [
    "def mentor (cls,list_of_mentor):\n",
    "    print(list_of_mentor)"
   ]
  },
  {
   "cell_type": "code",
   "execution_count": 85,
   "metadata": {},
   "outputs": [
    {
     "name": "stdout",
     "output_type": "stream",
     "text": [
      "['pushpansh', 'pushpansh@my']\n"
     ]
    }
   ],
   "source": [
    "my1.mentor=classmethod(mentor)\n",
    "my1.mentor([\"pushpansh\",\"pushpansh@my\"])"
   ]
  },
  {
   "cell_type": "markdown",
   "metadata": {},
   "source": [
    "# static method"
   ]
  },
  {
   "cell_type": "code",
   "execution_count": 86,
   "metadata": {},
   "outputs": [],
   "source": [
    "class my3():\n",
    "    def student_details(self,name,email):\n",
    "        print(name,email)"
   ]
  },
  {
   "cell_type": "code",
   "execution_count": 88,
   "metadata": {},
   "outputs": [
    {
     "name": "stdout",
     "output_type": "stream",
     "text": [
      "aman aman@gmail.com\n"
     ]
    }
   ],
   "source": [
    "m3=my3()\n",
    "m3.student_details(\"aman\",\"aman@gmail.com\")"
   ]
  },
  {
   "cell_type": "code",
   "execution_count": 93,
   "metadata": {},
   "outputs": [],
   "source": [
    "class my3():\n",
    "    def student_details(self,name,email):\n",
    "        print(name,email)\n",
    "\n",
    "\n",
    "    @staticmethod\n",
    "    def mentor_class(list_mentor):\n",
    "        print(list_mentor)\n",
    "\n",
    "    @classmethod\n",
    "    def class_name(cls,class_name):\n",
    "        cls.mentor_class([\"aman\",\"pushpansh\",\"purnima\",\"muskan\",\"sameer\"])\n",
    "\n",
    "    def mentor(self,mentor_list):\n",
    "        print(mentor_list)\n",
    "    \n",
    "\n",
    "\n",
    "\n",
    "     "
   ]
  },
  {
   "cell_type": "code",
   "execution_count": 92,
   "metadata": {},
   "outputs": [
    {
     "name": "stdout",
     "output_type": "stream",
     "text": [
      "['aman', 'pushpansh', 'purnima', 'muskan', 'sameer']\n"
     ]
    }
   ],
   "source": [
    "my3.mentor_class([\"aman\",\"pushpansh\",\"purnima\",\"muskan\",\"sameer\"])"
   ]
  },
  {
   "cell_type": "code",
   "execution_count": 94,
   "metadata": {},
   "outputs": [
    {
     "name": "stdout",
     "output_type": "stream",
     "text": [
      "['aman', 'pushpansh', 'purnima', 'muskan', 'sameer']\n"
     ]
    }
   ],
   "source": [
    "my3.class_name(\"\")"
   ]
  },
  {
   "cell_type": "markdown",
   "metadata": {},
   "source": [
    "# polymorphism"
   ]
  },
  {
   "cell_type": "code",
   "execution_count": 95,
   "metadata": {},
   "outputs": [],
   "source": [
    "# operator overloadding\n",
    "# method overloadding"
   ]
  },
  {
   "cell_type": "code",
   "execution_count": 96,
   "metadata": {},
   "outputs": [],
   "source": [
    "def test(a,b):\n",
    "    return a+b"
   ]
  },
  {
   "cell_type": "code",
   "execution_count": 97,
   "metadata": {},
   "outputs": [
    {
     "data": {
      "text/plain": [
       "11"
      ]
     },
     "execution_count": 97,
     "metadata": {},
     "output_type": "execute_result"
    }
   ],
   "source": [
    "test(5,6)"
   ]
  },
  {
   "cell_type": "code",
   "execution_count": 98,
   "metadata": {},
   "outputs": [
    {
     "data": {
      "text/plain": [
       "'amanbudhwar'"
      ]
     },
     "execution_count": 98,
     "metadata": {},
     "output_type": "execute_result"
    }
   ],
   "source": [
    "test(\"aman\",\"budhwar\")"
   ]
  },
  {
   "cell_type": "code",
   "execution_count": 114,
   "metadata": {},
   "outputs": [],
   "source": [
    "# method overloadding\n",
    "\n",
    "class pythan:\n",
    "    def syllabus(self):\n",
    "        print(\"this is my pythan class syllabus\")"
   ]
  },
  {
   "cell_type": "code",
   "execution_count": 115,
   "metadata": {},
   "outputs": [],
   "source": [
    "p=pythan()"
   ]
  },
  {
   "cell_type": "code",
   "execution_count": 121,
   "metadata": {},
   "outputs": [],
   "source": [
    "class oops:\n",
    "    def syllabus(self):\n",
    "        print(\"this is my oops class syllabus\")"
   ]
  },
  {
   "cell_type": "code",
   "execution_count": 130,
   "metadata": {},
   "outputs": [],
   "source": [
    "o = oops"
   ]
  },
  {
   "cell_type": "code",
   "execution_count": 128,
   "metadata": {},
   "outputs": [],
   "source": [
    "def parcer(class_obj):\n",
    "\n",
    "    for i in class_obj:\n",
    "        i.syllabus()"
   ]
  },
  {
   "cell_type": "code",
   "execution_count": 131,
   "metadata": {},
   "outputs": [],
   "source": [
    "class_obj = [p,o]"
   ]
  },
  {
   "cell_type": "code",
   "execution_count": 132,
   "metadata": {},
   "outputs": [
    {
     "name": "stdout",
     "output_type": "stream",
     "text": [
      "this is my pythan class syllabus\n"
     ]
    },
    {
     "ename": "TypeError",
     "evalue": "oops.syllabus() missing 1 required positional argument: 'self'",
     "output_type": "error",
     "traceback": [
      "\u001b[1;31m---------------------------------------------------------------------------\u001b[0m",
      "\u001b[1;31mTypeError\u001b[0m                                 Traceback (most recent call last)",
      "Cell \u001b[1;32mIn[132], line 1\u001b[0m\n\u001b[1;32m----> 1\u001b[0m \u001b[43mparcer\u001b[49m\u001b[43m(\u001b[49m\u001b[43mclass_obj\u001b[49m\u001b[43m)\u001b[49m\n",
      "Cell \u001b[1;32mIn[128], line 4\u001b[0m, in \u001b[0;36mparcer\u001b[1;34m(class_obj)\u001b[0m\n\u001b[0;32m      1\u001b[0m \u001b[38;5;28;01mdef\u001b[39;00m \u001b[38;5;21mparcer\u001b[39m(class_obj):\n\u001b[0;32m      3\u001b[0m     \u001b[38;5;28;01mfor\u001b[39;00m i \u001b[38;5;129;01min\u001b[39;00m class_obj:\n\u001b[1;32m----> 4\u001b[0m         \u001b[43mi\u001b[49m\u001b[38;5;241;43m.\u001b[39;49m\u001b[43msyllabus\u001b[49m\u001b[43m(\u001b[49m\u001b[43m)\u001b[49m\n",
      "\u001b[1;31mTypeError\u001b[0m: oops.syllabus() missing 1 required positional argument: 'self'"
     ]
    }
   ],
   "source": [
    "parcer(class_obj)"
   ]
  },
  {
   "cell_type": "code",
   "execution_count": null,
   "metadata": {},
   "outputs": [],
   "source": []
  },
  {
   "cell_type": "code",
   "execution_count": null,
   "metadata": {},
   "outputs": [],
   "source": []
  },
  {
   "cell_type": "code",
   "execution_count": null,
   "metadata": {},
   "outputs": [],
   "source": []
  }
 ],
 "metadata": {
  "kernelspec": {
   "display_name": "Python 3",
   "language": "python",
   "name": "python3"
  },
  "language_info": {
   "codemirror_mode": {
    "name": "ipython",
    "version": 3
   },
   "file_extension": ".py",
   "mimetype": "text/x-python",
   "name": "python",
   "nbconvert_exporter": "python",
   "pygments_lexer": "ipython3",
   "version": "3.11.9"
  }
 },
 "nbformat": 4,
 "nbformat_minor": 2
}
